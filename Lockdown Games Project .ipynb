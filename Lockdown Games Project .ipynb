{
 "cells": [
  {
   "cell_type": "markdown",
   "metadata": {},
   "source": [
    "\n",
    "# Number Guessing Game"
   ]
  },
  {
   "cell_type": "code",
   "execution_count": 1,
   "metadata": {},
   "outputs": [],
   "source": [
    "import random\n",
    "\n",
    "num = random.randint(1,100)"
   ]
  },
  {
   "cell_type": "code",
   "execution_count": 2,
   "metadata": {},
   "outputs": [],
   "source": [
    "ls = [0]"
   ]
  },
  {
   "cell_type": "code",
   "execution_count": 3,
   "metadata": {},
   "outputs": [],
   "source": [
    "for i in range(1,3):\n",
    "    ls.append(i)\n"
   ]
  },
  {
   "cell_type": "code",
   "execution_count": 4,
   "metadata": {
    "scrolled": true
   },
   "outputs": [],
   "source": [
    "guesses = [0]"
   ]
  },
  {
   "cell_type": "code",
   "execution_count": 5,
   "metadata": {},
   "outputs": [
    {
     "data": {
      "text/plain": [
       "1"
      ]
     },
     "execution_count": 5,
     "metadata": {},
     "output_type": "execute_result"
    }
   ],
   "source": [
    "len(guesses)"
   ]
  },
  {
   "cell_type": "code",
   "execution_count": 6,
   "metadata": {},
   "outputs": [],
   "source": [
    "def Number_guessing_game():\n",
    "    print(\"WELCOME TO GUESS ME!\")\n",
    "    print(\"I'm thinking of a number between 1 and 100\")\n",
    "    print(\"If your guess is more than 10 away from my number, I'll tell you you're COLD\")\n",
    "    print(\"If your guess is within 10 of my number, I'll tell you you're WARM\")\n",
    "    print(\"If your guess is farther than your most recent guess, I'll say you're getting COLDER\")\n",
    "    print(\"If your guess is closer than your most recent guess, I'll say you're getting WARMER\")\n",
    "    print(\"LET'S PLAY!\")\n",
    "    while True:\n",
    "        guess = int(input(\"I'm thinking of a number between 1 and 100.\\n  What is your guess? \"))\n",
    "        if guess < 1 or guess > 100:\n",
    "            print('OUT OF BOUNDS! Please try again: ')\n",
    "            continue\n",
    "    \n",
    "    \n",
    "        if guess == num:\n",
    "            print(f'CONGRATULATIONS, YOU GUESSED IT IN ONLY {len(guesses)} GUESSES!!')\n",
    "            break\n",
    "        \n",
    "    \n",
    "        guesses.append(guess)\n",
    "    \n",
    "        if guesses[-2]:  \n",
    "            if abs(num-guess) < abs(num-guesses[-2]):\n",
    "                print('WARMER!')\n",
    "            else:\n",
    "                print('COLDER!')\n",
    "   \n",
    "        else:\n",
    "            if abs(num-guess) <= 10:\n",
    "                print('WARM!')\n",
    "            else:\n",
    "                print('COLD!')"
   ]
  },
  {
   "cell_type": "markdown",
   "metadata": {},
   "source": [
    "# Tic tac toe"
   ]
  },
  {
   "cell_type": "code",
   "execution_count": 7,
   "metadata": {},
   "outputs": [],
   "source": [
    "from IPython.display import clear_output\n",
    "\n",
    "def display_board(board):\n",
    "    clear_output()  # Remember, this only works in jupyter!\n",
    "    \n",
    "    print('   |   |')\n",
    "    print(' ' + board[7] + ' | ' + board[8] + ' | ' + board[9])\n",
    "    print('   |   |')\n",
    "    print('-----------')\n",
    "    print('   |   |')\n",
    "    print(' ' + board[4] + ' | ' + board[5] + ' | ' + board[6])\n",
    "    print('   |   |')\n",
    "    print('-----------')\n",
    "    print('   |   |')\n",
    "    print(' ' + board[1] + ' | ' + board[2] + ' | ' + board[3])\n",
    "    print('   |   |')"
   ]
  },
  {
   "cell_type": "code",
   "execution_count": 8,
   "metadata": {},
   "outputs": [],
   "source": [
    "def player_input():\n",
    "    marker = ''\n",
    "    \n",
    "    while not (marker == 'X' or marker == 'O'):\n",
    "        marker = input('Player 1: Do you want to be X or O? ').upper()\n",
    "\n",
    "    if marker == 'X':\n",
    "        return ('X', 'O')\n",
    "    else:\n",
    "        return ('O', 'X')"
   ]
  },
  {
   "cell_type": "code",
   "execution_count": 9,
   "metadata": {},
   "outputs": [],
   "source": [
    "def place_marker(board, marker, position):\n",
    "    board[position] = marker"
   ]
  },
  {
   "cell_type": "code",
   "execution_count": 10,
   "metadata": {},
   "outputs": [],
   "source": [
    "def win_check(board,mark):\n",
    "    \n",
    "    return ((board[7] == mark and board[8] == mark and board[9] == mark) or # across the top\n",
    "    (board[4] == mark and board[5] == mark and board[6] == mark) or # across the middle\n",
    "    (board[1] == mark and board[2] == mark and board[3] == mark) or # across the bottom\n",
    "    (board[7] == mark and board[4] == mark and board[1] == mark) or # down the middle\n",
    "    (board[8] == mark and board[5] == mark and board[2] == mark) or # down the middle\n",
    "    (board[9] == mark and board[6] == mark and board[3] == mark) or # down the right side\n",
    "    (board[7] == mark and board[5] == mark and board[3] == mark) or # diagonal\n",
    "    (board[9] == mark and board[5] == mark and board[1] == mark)) # diagonal"
   ]
  },
  {
   "cell_type": "code",
   "execution_count": 11,
   "metadata": {},
   "outputs": [],
   "source": [
    "import random\n",
    "\n",
    "def choose_first():\n",
    "    if random.randint(0, 1) == 0:\n",
    "        return 'Player 2'\n",
    "    else:\n",
    "        return 'Player 1'"
   ]
  },
  {
   "cell_type": "code",
   "execution_count": 12,
   "metadata": {},
   "outputs": [],
   "source": [
    "def space_check(board, position):\n",
    "    \n",
    "    return board[position] == ' '"
   ]
  },
  {
   "cell_type": "code",
   "execution_count": 13,
   "metadata": {},
   "outputs": [],
   "source": [
    "def full_board_check(board):\n",
    "    for i in range(1,10):\n",
    "        if space_check(board, i):\n",
    "            return False\n",
    "    return True"
   ]
  },
  {
   "cell_type": "code",
   "execution_count": 14,
   "metadata": {},
   "outputs": [],
   "source": [
    "def player_choice(board):\n",
    "    position = 0\n",
    "    \n",
    "    while position not in [1,2,3,4,5,6,7,8,9] or not space_check(board, position):\n",
    "        position = int(input('Choose your next position: (1-9) '))\n",
    "        \n",
    "    return position"
   ]
  },
  {
   "cell_type": "code",
   "execution_count": 15,
   "metadata": {},
   "outputs": [],
   "source": [
    "def replay():\n",
    "    \n",
    "    return input('Do you want to play again? Enter Yes or No: ').lower().startswith('y')"
   ]
  },
  {
   "cell_type": "code",
   "execution_count": 16,
   "metadata": {},
   "outputs": [],
   "source": [
    "def tic_tac_toe():\n",
    "    print('Welcome to Tic Tac Toe!')\n",
    "\n",
    "    while True:\n",
    "    # Reset the board\n",
    "        theBoard = [' '] * 10\n",
    "        player1_marker, player2_marker = player_input()\n",
    "        turn = choose_first()\n",
    "        print(turn + ' will go first.')\n",
    "    \n",
    "        play_game = input('Are you ready to play? Enter Yes or No.')\n",
    "    \n",
    "        if play_game.lower()[0] == 'y':\n",
    "            game_on = True\n",
    "        else:\n",
    "            game_on = False\n",
    "\n",
    "        while game_on:\n",
    "            if turn == 'Player 1':\n",
    "                # Player1's turn.\n",
    "            \n",
    "                display_board(theBoard)\n",
    "                position = player_choice(theBoard)\n",
    "                place_marker(theBoard, player1_marker, position)\n",
    "\n",
    "                if win_check(theBoard, player1_marker):\n",
    "                    display_board(theBoard)\n",
    "                    print('Congratulations! You have won the game!')\n",
    "                    game_on = False\n",
    "                else:\n",
    "                    if full_board_check(theBoard):\n",
    "                        display_board(theBoard)\n",
    "                        print('The game is a draw!')\n",
    "                        break\n",
    "                    else:\n",
    "                        turn = 'Player 2'\n",
    "\n",
    "            else:\n",
    "                # Player2's turn.\n",
    "            \n",
    "                display_board(theBoard)\n",
    "                position = player_choice(theBoard)\n",
    "                place_marker(theBoard, player2_marker, position)\n",
    "\n",
    "                if win_check(theBoard, player2_marker):\n",
    "                    display_board(theBoard)\n",
    "                    print('Player 2 has won!')\n",
    "                    game_on = False\n",
    "                else:\n",
    "                    if full_board_check(theBoard):\n",
    "                        display_board(theBoard)\n",
    "                        print('The game is a draw!')\n",
    "                        break\n",
    "                    else:\n",
    "                        turn = 'Player 1'\n",
    "\n",
    "        if not replay():\n",
    "            break"
   ]
  },
  {
   "cell_type": "markdown",
   "metadata": {},
   "source": [
    "# Rock PAper scissors"
   ]
  },
  {
   "cell_type": "code",
   "execution_count": 17,
   "metadata": {},
   "outputs": [],
   "source": [
    "from random import randint\n",
    "\n",
    "def rock_paper_scissors():\n",
    "    t = [\"Rock\", \"Paper\", \"Scissors\"]\n",
    "\n",
    "\n",
    "    computer = t[randint(0,2)]\n",
    "\n",
    "    #set player to False\n",
    "    player = False\n",
    "\n",
    "    while player == False:\n",
    "    #set player to True\n",
    "        player = input(\"Rock, Paper, Scissors?\")\n",
    "        if player == computer:\n",
    "            print(\"Tie!\")\n",
    "        elif player == \"Rock\":\n",
    "            if computer == \"Paper\":\n",
    "                print(\"You lose!\", computer, \"covers\", player)\n",
    "            else:\n",
    "                print(\"You win!\", player, \"smashes\", computer)\n",
    "        elif player == \"Paper\":\n",
    "            if computer == \"Scissors\":\n",
    "                print(\"You lose!\", computer, \"cut\", player)\n",
    "            else:\n",
    "                print(\"You win!\", player, \"covers\", computer)\n",
    "        elif player == \"Scissors\":\n",
    "            if computer == \"Rock\":\n",
    "                print(\"You lose...\", computer, \"smashes\", player)\n",
    "            else:\n",
    "                print(\"You win!\", player, \"cut\", computer)\n",
    "        else:\n",
    "            print(\"That's not a valid play. Check your spelling!\")\n",
    "        #player was set to True, but we want it to be False so the loop continues\n",
    "        player = False\n",
    "        computer = t[randint(0,2)]"
   ]
  },
  {
   "cell_type": "code",
   "execution_count": 18,
   "metadata": {},
   "outputs": [],
   "source": [
    "#create a list of play options\n",
    "t = [\"Rock\", \"Paper\", \"Scissors\"]"
   ]
  },
  {
   "cell_type": "code",
   "execution_count": 19,
   "metadata": {},
   "outputs": [],
   "source": [
    "#assign a random play to the computer\n",
    "computer = t[randint(0,2)]\n",
    "\n",
    "#set player to False\n",
    "player = False"
   ]
  },
  {
   "cell_type": "markdown",
   "metadata": {},
   "source": [
    "# Main Function "
   ]
  },
  {
   "cell_type": "code",
   "execution_count": null,
   "metadata": {},
   "outputs": [
    {
     "name": "stdout",
     "output_type": "stream",
     "text": [
      "Enter 1 for Number Guessing Game\n",
      "Enter 2 for Tic-Tac-toe\n",
      "Enter 3 for Rock Paper Scissors\n",
      "3\n",
      "Rock, Paper, Scissors?Rock\n",
      "You lose! Paper covers Rock\n"
     ]
    }
   ],
   "source": [
    "print(\"Enter 1 for Number Guessing Game\")\n",
    "print(\"Enter 2 for Tic-Tac-toe\")\n",
    "print(\"Enter 3 for Rock Paper Scissors\")\n",
    "choice=int(input())\n",
    "if(choice==1):\n",
    "    Number_guessing_game()\n",
    "elif(choice==2):\n",
    "    tic_tac_toe()\n",
    "elif(choice==3):\n",
    "    rock_paper_scissors()\n",
    "else:\n",
    "    print(\"Invalid choice\")\n"
   ]
  },
  {
   "cell_type": "code",
   "execution_count": null,
   "metadata": {},
   "outputs": [],
   "source": []
  },
  {
   "cell_type": "code",
   "execution_count": null,
   "metadata": {},
   "outputs": [],
   "source": []
  }
 ],
 "metadata": {
  "kernelspec": {
   "display_name": "Python 3",
   "language": "python",
   "name": "python3"
  },
  "language_info": {
   "codemirror_mode": {
    "name": "ipython",
    "version": 3
   },
   "file_extension": ".py",
   "mimetype": "text/x-python",
   "name": "python",
   "nbconvert_exporter": "python",
   "pygments_lexer": "ipython3",
   "version": "3.7.6"
  }
 },
 "nbformat": 4,
 "nbformat_minor": 2
}
